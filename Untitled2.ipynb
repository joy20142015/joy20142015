{
  "nbformat": 4,
  "nbformat_minor": 0,
  "metadata": {
    "colab": {
      "provenance": [],
      "authorship_tag": "ABX9TyOvQjEDMbwFybd80QnmJ12t",
      "include_colab_link": true
    },
    "kernelspec": {
      "name": "python3",
      "display_name": "Python 3"
    },
    "language_info": {
      "name": "python"
    }
  },
  "cells": [
    {
      "cell_type": "markdown",
      "metadata": {
        "id": "view-in-github",
        "colab_type": "text"
      },
      "source": [
        "<a href=\"https://colab.research.google.com/github/joy20142015/joy20142015/blob/main/Untitled2.ipynb\" target=\"_parent\"><img src=\"https://colab.research.google.com/assets/colab-badge.svg\" alt=\"Open In Colab\"/></a>"
      ]
    },
    {
      "cell_type": "code",
      "execution_count": null,
      "metadata": {
        "id": "-SondXJuXJbb"
      },
      "outputs": [],
      "source": [
        "from google.colab import userdata\n",
        "google_api = userdata.get('GOOGLE-API-KEY')"
      ]
    },
    {
      "cell_type": "code",
      "source": [
        "# Use the google gemini model\n",
        "#!pip install google-generativeai\n",
        "\n",
        "import google.generativeai as genai\n",
        "\n",
        "# Linking the API Key with the model....\n",
        "genai.configure(api_key = google_api)\n",
        "\n",
        "# Create the Model\n",
        "model = genai.GenerativeModel(\"gemini-pro\") # text:gemini-pro, images:gemini-1.5-flash\n",
        "flash_model = genai.GenerativeModel(\"gemini-1.5-flash\")"
      ],
      "metadata": {
        "id": "8C7oXjd1YS1P"
      },
      "execution_count": null,
      "outputs": []
    },
    {
      "cell_type": "code",
      "source": [
        "from sklearn.ensemble import RandomForestClassifier\n",
        "rf = RandomForestClassifier() # Parameters\n"
      ],
      "metadata": {
        "id": "FaPlCGF2Ydtf"
      },
      "execution_count": null,
      "outputs": []
    },
    {
      "cell_type": "code",
      "source": [
        "# Sentiment Analysis\n",
        "\n",
        "text = '''This is a nice movie. Although it was slow in between but ending was amazing.\n",
        "Generate the Sentiment of the Text'''\n",
        "\n",
        "response = model.generate_content(text)\n",
        "print(response.text)"
      ],
      "metadata": {
        "colab": {
          "base_uri": "https://localhost:8080/",
          "height": 34
        },
        "id": "6r5pISxOYg-I",
        "outputId": "f7dbc45f-f7cc-4f6a-d5ca-9fe7378b8ad2"
      },
      "execution_count": null,
      "outputs": [
        {
          "output_type": "stream",
          "name": "stdout",
          "text": [
            "Positive\n"
          ]
        }
      ]
    },
    {
      "cell_type": "code",
      "source": [
        "# News Classification\n",
        "news = '''Classify the following news headline in the following categories:\n",
        "Finance, Healthcare, Politics, Disaster and Sports. Here is the headline -\n",
        "Google gearing up for Gemini 2.0 launch with new AI model in testing'''\n",
        "\n",
        "response = model.generate_content(news)\n",
        "print(response.text)"
      ],
      "metadata": {
        "colab": {
          "base_uri": "https://localhost:8080/",
          "height": 34
        },
        "id": "jNacs8RFYo0O",
        "outputId": "2815e9de-412c-4dcc-bda9-18fe85fd53fd"
      },
      "execution_count": null,
      "outputs": [
        {
          "output_type": "stream",
          "name": "stdout",
          "text": [
            "Technology\n"
          ]
        }
      ]
    },
    {
      "cell_type": "code",
      "source": [
        "# News Classification - Improving Prompts/Prompt Nuancing...\n",
        "\n",
        "# The key is to write your prompt in detail thinking about all the aspects in the\n",
        "# business so that the model is able to take better decision and come up with\n",
        "# a wise solutio/answer\n",
        "\n",
        "news = '''Classify the following news headline in the following categories:\n",
        "Finance, Healthcare, Politics, Disaster and Sports. If none of the categories\n",
        "are matching, use your own intelligence to classify the news headline.\n",
        "Here is the headline - Google gearing up for Gemini 2.0 launch with\n",
        "new AI model in testing'''\n",
        "\n",
        "response = model.generate_content(news)\n",
        "print(response.text)\n"
      ],
      "metadata": {
        "colab": {
          "base_uri": "https://localhost:8080/",
          "height": 34
        },
        "id": "9XXgnFsEYrCn",
        "outputId": "b0ec398b-b19e-4bb4-cdf4-a02610a81c38"
      },
      "execution_count": null,
      "outputs": [
        {
          "output_type": "stream",
          "name": "stdout",
          "text": [
            "Technology\n"
          ]
        }
      ]
    },
    {
      "cell_type": "code",
      "source": [
        "# Maths...\n",
        "\n",
        "maths = '''Give me Domain and Range of Parabola equation y = x**2'''\n",
        "\n",
        "response = model.generate_content(maths)\n",
        "print(response.text)\n"
      ],
      "metadata": {
        "colab": {
          "base_uri": "https://localhost:8080/",
          "height": 51
        },
        "id": "hCGGudk9ZRna",
        "outputId": "91f9925d-dabb-47c1-cd81-22de3a922a16"
      },
      "execution_count": null,
      "outputs": [
        {
          "output_type": "stream",
          "name": "stdout",
          "text": [
            "Domain: (-∞, ∞)\n",
            "Range: [0, ∞)\n"
          ]
        }
      ]
    },
    {
      "cell_type": "code",
      "source": [
        "# Few Shot Prompting in SQL\n",
        "\n",
        "examples = [{'input': '''Get all the Employees from 'employee' table''',\n",
        "             'output':'''SELECT * FROM Employees'''},\n",
        "            {'input': '''Find Employees whose Salary is more than 50000''',\n",
        "             'output':'''SELECT * FROM employees WHERE Salary>50000'''}]\n",
        "\n",
        "prompt = 'Write a SQL Query to get the 2nd highest Salary of the Employee'\n",
        "\n",
        "response = model.generate_content(prompt+'\\n\\n{examples}\\n\\n'+str(examples))\n",
        "\n",
        "print(response.text)"
      ],
      "metadata": {
        "colab": {
          "base_uri": "https://localhost:8080/",
          "height": 170
        },
        "id": "oCpWk0lIZaRj",
        "outputId": "9d80f393-6e22-4eed-f82c-7f0bff5b57d9"
      },
      "execution_count": null,
      "outputs": [
        {
          "output_type": "stream",
          "name": "stdout",
          "text": [
            "```sql\n",
            "SELECT MAX(Salary) AS SecondHighestSalary\n",
            "FROM (\n",
            "  SELECT Salary,\n",
            "    ROW_NUMBER() OVER (ORDER BY Salary DESC) AS RowNum\n",
            "  FROM employee\n",
            ") AS subquery\n",
            "WHERE RowNum = 2;\n",
            "```\n"
          ]
        }
      ]
    },
    {
      "cell_type": "code",
      "source": [
        "# Chain of Thought::Pursue Masters from US or continue the Job...\n",
        "\n",
        "thought = '''Question - Should I pursue the Masters from USA or continue with\n",
        "my current job?\n",
        "\n",
        "**Assess the Present Situation** - Recently I got a job as a Data Scientist in a MNC\n",
        "and the pay is really decent given the fact that I am a fresher and dont have experience. So,\n",
        "overall it is a good start in life. My family is happy that I am finally able to do well and have\n",
        "become independent.\n",
        "\n",
        "However, I see the people in my company who went to abroad and pursued their masters and/or phd and\n",
        "now because they hold International Degrees from reputed colleges such as MIT or John Hopkins or Purdue,\n",
        "they are getting 10x more than what I earn.\n",
        "\n",
        "I am developing a keen sense of going abroad and pursue my studies and then come back for work.\n",
        "I personally feel it would be a good opportunity.\n",
        "I would have to shell over 10 Million in INR if I want to do something of that sort. Perhaps,\n",
        "I am also trying to explore the options of getting scholarship.\n",
        "\n",
        "Now, Since I dont come from IIT (premier institution in India) and hence, getting my profile\n",
        "selected at IVY Leagues is out of discussion.\n",
        "\n",
        "**Financial Situation** -  Finances are not a constraint at my end. Money is never a worry however,\n",
        "getting into IVY League is a worry.\n",
        "\n",
        "**Emotional Situation** - Apart from my worry of getting into IVY League,\n",
        "I have a girlfriend with whom I have a very steady relation and I dont want\n",
        "to leave her behind. Masters and phd will be a long duration and may be a\n",
        "long distance relationship might not work. I have asked her to come along\n",
        "but she cannot afford this kind of expense. I am emotionally struggling.\n",
        "\n",
        "Given all of this, I am in a dilemma what to do and what not to do. Could you help\n",
        "me here in providing a solution to this problem and please evaluate all the factors\n",
        "from a 360 degree perspective and give me a solution that is practical and enactable.'''\n",
        "\n",
        "response = model.generate_content(thought)\n",
        "print(response.text)"
      ],
      "metadata": {
        "colab": {
          "base_uri": "https://localhost:8080/",
          "height": 819
        },
        "id": "6SOv8mMUZfFZ",
        "outputId": "64ab0cc7-6a54-4786-a784-6a1c0dacb46c"
      },
      "execution_count": null,
      "outputs": [
        {
          "output_type": "stream",
          "name": "stdout",
          "text": [
            "**Assessment of Factors:**\n",
            "\n",
            "**Financial Situation:**\n",
            "* Not a constraint.\n",
            "\n",
            "**Emotional Situation:**\n",
            "* Long-distance relationship concerns.\n",
            "\n",
            "**Career Considerations:**\n",
            "* Higher potential earning abroad with an international degree.\n",
            "* Challenge of getting into Ivy League universities.\n",
            "\n",
            "**Practical Solution:**\n",
            "\n",
            "**1. Explore Non-Ivy League Options:**\n",
            "\n",
            "* Consider universities in the US or other countries with strong academic reputations, but are not Ivy League. This increases your chances of admission and reduces tuition costs.\n",
            "\n",
            "**2. Consider a Shorter Program:**\n",
            "\n",
            "* Instead of a Master's or PhD, opt for a one-year graduate certificate or diploma program. This reduces the financial burden and relationship strain.\n",
            "\n",
            "**3. Explore Scholarship Opportunities:**\n",
            "\n",
            "* Actively search for government, university, and private scholarships to reduce the financial burden.\n",
            "\n",
            "**4. Discuss with Girlfriend:**\n",
            "\n",
            "* Openly communicate your concerns and career goals with your girlfriend. Explore the possibility of her joining you abroad for a shorter period (e.g., one year) while maintaining a long-distance relationship for the remainder.\n",
            "\n",
            "**5. Weigh the Benefits and Risks:**\n",
            "\n",
            "* Consider the potential financial gains and career advancement opportunities against the emotional risks and financial investment.\n",
            "\n",
            "**6. Make a Decision:**\n",
            "\n",
            "* Based on the above factors, make an informed decision that aligns with your priorities. If you decide to pursue graduate studies abroad, be prepared to make sacrifices and plan accordingly.\n",
            "\n",
            "**Additional Considerations:**\n",
            "\n",
            "* **Career goals:** Identify the specific career path you want to pursue and determine if an international degree is necessary.\n",
            "* **Job market:** Research the job market for Data Scientists with international degrees in the US and your home country.\n",
            "* **Work experience:** Consider gaining more work experience before pursuing graduate studies, as it can strengthen your application and provide a financial cushion.\n",
            "* **Personal growth:** Recognize the potential for personal growth and development through studying abroad.\n",
            "\n",
            "Remember, there is no right or wrong answer. The best decision for you will depend on your individual circumstances and priorities.\n"
          ]
        }
      ]
    }
  ]
}